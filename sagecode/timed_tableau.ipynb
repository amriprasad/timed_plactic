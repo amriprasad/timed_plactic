{
 "metadata": {
  "kernelspec": {
   "display_name": "Python 2",
   "language": "python",
   "name": "python2"
  },
  "language_info": {
   "codemirror_mode": {
    "name": "ipython",
    "version": 2
   },
   "file_extension": ".py",
   "mimetype": "text/x-python",
   "name": "python",
   "nbconvert_exporter": "python",
   "pygments_lexer": "ipython2",
   "version": "2.7.14"
  },
  "name": "",
  "signature": "sha256:46bf7f1e57b1527e52ad86bd4136d82f5f6e6491ec48faeb6c520d82e9dfe34e"
 },
 "nbformat": 3,
 "nbformat_minor": 0,
 "worksheets": [
  {
   "cells": [
    {
     "cell_type": "markdown",
     "metadata": {
      "deletable": true,
      "editable": true
     },
     "source": [
      "# The Timed Version of the Plactic Monoid\n",
      "## By Amritanshu Prasad\n",
      "\n",
      "This worksheet illustrates our results on timed words with examples and verifications of theorems.\n",
      "\n",
      "\n",
      "### Section 3.1: Timed Tableaux\n",
      "\n",
      "#### Timed Word\n",
      "\n",
      "The class ``TimedWord`` is is for timed words. The word $c_1^{t_1}\\dotsb c_k^{t_k}$ is constrcuted as ``[(c1,t1), (c2,t2),...(ck,tk)]``.\n",
      "\n",
      "The timed word from **Example 2.1.6** is constructed below:"
     ]
    },
    {
     "cell_type": "code",
     "collapsed": false,
     "input": [
      "%run timed_tableau.py\n",
      "w = TimedWord([(3,0.8), (4, 1.1), (1,1.4), (2,1.6), (3,0.7)])\n",
      "print w"
     ],
     "language": "python",
     "metadata": {
      "deletable": true,
      "editable": true
     },
     "outputs": [
      {
       "output_type": "stream",
       "stream": "stdout",
       "text": [
        "[[3, 0.8], [4, 1.1], [1, 1.4], [2, 1.6], [3, 0.7]]\n"
       ]
      }
     ],
     "prompt_number": 6
    },
    {
     "cell_type": "markdown",
     "metadata": {
      "deletable": true,
      "editable": true
     },
     "source": [
      "This timed word is a timed tableau:"
     ]
    },
    {
     "cell_type": "code",
     "collapsed": false,
     "input": [
      "print w.is_tableau()\n",
      "print w.shape()\n",
      "print w.weight()"
     ],
     "language": "python",
     "metadata": {
      "deletable": true,
      "editable": true,
      "scrolled": false
     },
     "outputs": [
      {
       "output_type": "stream",
       "stream": "stdout",
       "text": [
        "True\n",
        "[3.7, 1.9000000000000001]\n",
        "[1.4, 1.6, 1.5, 1.1]\n"
       ]
      }
     ],
     "prompt_number": 7
    },
    {
     "cell_type": "markdown",
     "metadata": {
      "deletable": true,
      "editable": true
     },
     "source": [
      "``random_word(max_let, terms, max_time=1)``\n",
      "constructs a random timed word with maximum letter ``max_let``, ``terms`` many terms, and each term having maximum length ``max_term``."
     ]
    },
    {
     "cell_type": "code",
     "collapsed": false,
     "input": [
      "w = random_word(5, 3); print w # This word will have 3 terms."
     ],
     "language": "python",
     "metadata": {
      "deletable": true,
      "editable": true
     },
     "outputs": [
      {
       "output_type": "stream",
       "stream": "stdout",
       "text": [
        "[[1, 1.0322801346263226], [3, 0.38003805798233736]]\n"
       ]
      }
     ],
     "prompt_number": 8
    },
    {
     "cell_type": "markdown",
     "metadata": {
      "deletable": true,
      "editable": true
     },
     "source": [
      "#### Timed Row\n",
      "\n",
      "``TimedRow`` is derived from the class ``TimedWord``. For example:"
     ]
    },
    {
     "cell_type": "code",
     "collapsed": false,
     "input": [
      "r = TimedRow([(1,0.3), (2, 0.1), (5, 0.2)]); print r"
     ],
     "language": "python",
     "metadata": {
      "deletable": true,
      "editable": true
     },
     "outputs": [
      {
       "output_type": "stream",
       "stream": "stdout",
       "text": [
        "[[1, 0.3], [2, 0.1], [5, 0.2]]\n"
       ]
      }
     ],
     "prompt_number": 9
    },
    {
     "cell_type": "markdown",
     "metadata": {
      "deletable": true,
      "editable": true
     },
     "source": [
      "``random_row(max_let, max_time=1)`` constructs a random row with maximum letter ``max_let``. Each term has maximum length ``max_term``."
     ]
    },
    {
     "cell_type": "code",
     "collapsed": false,
     "input": [
      "r = random_row(5); print r"
     ],
     "language": "python",
     "metadata": {
      "deletable": true,
      "editable": true
     },
     "outputs": [
      {
       "output_type": "stream",
       "stream": "stdout",
       "text": [
        "[[1, 0.7106871194180211], [2, 0.8708391741521583], [3, 0.9548519002306668], [4, 0.5352627098509334], [5, 0.515506047257169]]\n"
       ]
      }
     ],
     "prompt_number": 10
    },
    {
     "cell_type": "markdown",
     "metadata": {
      "deletable": true,
      "editable": true
     },
     "source": [
      "#### ROWINS (Definition 2.2.1 and Example 2.2.2)\n",
      " A row can be inserted into another:"
     ]
    },
    {
     "cell_type": "code",
     "collapsed": false,
     "input": [
      "u = TimedRow([(1,1.4),(2,1.6),(3,0.7)])\n",
      "v = TimedRow([(1,0.7),(2,0.2)])\n",
      "print u.insert_row(v)"
     ],
     "language": "python",
     "metadata": {
      "deletable": true,
      "editable": true
     },
     "outputs": [
      {
       "output_type": "stream",
       "stream": "stdout",
       "text": [
        "([[2, 0.7], [3, 0.2]], [[1, 2.0999999999999996], [2, 1.1], [3, 0.49999999999999994]])\n"
       ]
      }
     ],
     "prompt_number": 11
    },
    {
     "cell_type": "heading",
     "level": 4,
     "metadata": {
      "deletable": true,
      "editable": true
     },
     "source": [
      "INSERT (Definition 2.2.3 and Example 2.2.4):"
     ]
    },
    {
     "cell_type": "code",
     "collapsed": false,
     "input": [
      "w = TimedTableau([(3,0.8), (4, 1.1), (1,1.4), (2,1.6), (3,0.7)])\n",
      "w.insert_row(TimedRow([(1,0.7),(2,0.2)]))"
     ],
     "language": "python",
     "metadata": {
      "deletable": true,
      "editable": true
     },
     "outputs": [
      {
       "metadata": {},
       "output_type": "pyout",
       "prompt_number": 12,
       "text": [
        "[[3, 0.7], [4, 0.2], [2, 0.7], [3, 0.3000000000000001], [4, 0.9000000000000001], [1, 2.0999999999999996], [2, 1.1], [3, 0.49999999999999994]]"
       ]
      }
     ],
     "prompt_number": 12
    },
    {
     "cell_type": "heading",
     "level": 4,
     "metadata": {
      "deletable": true,
      "editable": true
     },
     "source": [
      "Insertion Tableau (Definition 2.2.7 and Example 2.2.8)"
     ]
    },
    {
     "cell_type": "code",
     "collapsed": false,
     "input": [
      "w = TimedWord([(3, 0.8), (1, 0.5), (4, 1.1), (1, 0.9), (2, 1.6), (3, 0.7), (1, 0.7), (2, 0.2)])\n",
      "w.insertion_tableau()"
     ],
     "language": "python",
     "metadata": {
      "deletable": true,
      "editable": true
     },
     "outputs": [
      {
       "metadata": {},
       "output_type": "pyout",
       "prompt_number": 14,
       "text": [
        "[[3, 0.7], [4, 0.2], [2, 0.7], [3, 0.3000000000000001], [4, 0.9000000000000001], [1, 2.0999999999999996], [2, 1.1], [3, 0.49999999999999994]]"
       ]
      }
     ],
     "prompt_number": 14
    },
    {
     "cell_type": "heading",
     "level": 4,
     "metadata": {
      "deletable": true,
      "editable": true
     },
     "source": [
      "Schuetzenberger involution on word (Definition 2.2.9)"
     ]
    },
    {
     "cell_type": "code",
     "collapsed": false,
     "input": [
      "print w\n",
      "u = w.schuetzenberger_involution(); print u\n",
      "w == u.schuetzenberger_involution()"
     ],
     "language": "python",
     "metadata": {
      "deletable": true,
      "editable": true
     },
     "outputs": [
      {
       "output_type": "stream",
       "stream": "stdout",
       "text": [
        "[[3, 0.8], [1, 0.5], [4, 1.1], [1, 0.9], [2, 1.6], [3, 0.7], [1, 0.7], [2, 0.2]]\n",
        "[[3, 0.2], [4, 0.7], [2, 0.7], [3, 1.6], [4, 0.9], [1, 1.1], [4, 0.5], [2, 0.8]]\n"
       ]
      },
      {
       "metadata": {},
       "output_type": "pyout",
       "prompt_number": 16,
       "text": [
        "True"
       ]
      }
     ],
     "prompt_number": 16
    },
    {
     "cell_type": "markdown",
     "metadata": {
      "deletable": true,
      "editable": true
     },
     "source": [
      "Note that ``w`` and ``u`` have insertion tableau of the same shape (this can be deduced from **Greene's theorem (Theorem 3.4.1)**."
     ]
    },
    {
     "cell_type": "code",
     "collapsed": false,
     "input": [
      "print w.insertion_tableau().shape()\n",
      "print u.insertion_tableau().shape()"
     ],
     "language": "python",
     "metadata": {
      "deletable": true,
      "editable": true
     },
     "outputs": [
      {
       "output_type": "stream",
       "stream": "stdout",
       "text": [
        "[3.6999999999999997, 1.9000000000000001, 0.8999999999999999]\n",
        "[3.6999999999999997, 1.9000000000000001, 0.8999999999999999]\n"
       ]
      }
     ],
     "prompt_number": 18
    },
    {
     "cell_type": "markdown",
     "metadata": {
      "deletable": true,
      "editable": true
     },
     "source": [
      "#### Randomized verification of Lemma 2.2.10\n",
      "\n",
      "First prepare random rows $u$ and $v$ such that $(v',u')=ROWINS(u,v)$, then $l(v')=l(v)$.\n",
      "This is done by first choosing random rows $u$ and $v$, computing $(x,y)=ROWINS(u,v)$, and then truncating $v$ to $l(x)$."
     ]
    },
    {
     "cell_type": "code",
     "collapsed": false,
     "input": [
      "u = random_row(5)\n",
      "v = random_row(5)\n",
      "vv, uu = u.insert_row(v)\n",
      "v=v.truncate(vv.length())\n",
      "vv, uu = u.insert_row(v)\n",
      "print vv.length() == v.length()"
     ],
     "language": "python",
     "metadata": {
      "deletable": true,
      "editable": true
     },
     "outputs": [
      {
       "output_type": "stream",
       "stream": "stdout",
       "text": [
        "True\n"
       ]
      }
     ],
     "prompt_number": 19
    },
    {
     "cell_type": "markdown",
     "metadata": {
      "deletable": true,
      "editable": true
     },
     "source": [
      "Now we verify **Lemma 2.2.10** using $u$ and $v$ that have been prepared in this way: "
     ]
    },
    {
     "cell_type": "code",
     "collapsed": false,
     "input": [
      "r, s = uu.schuetzenberger_involution(max_let=5).insert_row(vv.schuetzenberger_involution(max_let=5))\n",
      "print s.schuetzenberger_involution() == u\n",
      "print r.schuetzenberger_involution() == v"
     ],
     "language": "python",
     "metadata": {
      "deletable": true,
      "editable": true
     },
     "outputs": [
      {
       "output_type": "stream",
       "stream": "stdout",
       "text": [
        "True\n",
        "True\n"
       ]
      }
     ],
     "prompt_number": 20
    },
    {
     "cell_type": "heading",
     "level": 4,
     "metadata": {
      "collapsed": true,
      "deletable": true,
      "editable": true
     },
     "source": [
      "Randomized verification of the proof of Corollary 2.2.11"
     ]
    },
    {
     "cell_type": "code",
     "collapsed": false,
     "input": [
      "n = 2 # pick largest letter of alphabet\n",
      "u = random_row(n)\n",
      "v = random_row(n)\n",
      "vv, uu = u.insert_row(v)\n",
      "r = u.length()\n",
      "x, y = inverse_rowins(vv, uu, r) # implemented using proof of Corollary 3.2.11\n",
      "print u == x and v == y"
     ],
     "language": "python",
     "metadata": {
      "deletable": true,
      "editable": true
     },
     "outputs": [
      {
       "output_type": "stream",
       "stream": "stdout",
       "text": [
        "True\n"
       ]
      }
     ],
     "prompt_number": 21
    },
    {
     "cell_type": "heading",
     "level": 4,
     "metadata": {
      "deletable": true,
      "editable": true
     },
     "source": [
      "Randomized verification of the Deletion algorithm (Definition 2.2.13)"
     ]
    },
    {
     "cell_type": "code",
     "collapsed": false,
     "input": [
      "w = random_word(5, 5).insertion_tableau()\n",
      "r = random_row(5)\n",
      "ww = w.insert_row(r)\n",
      "v, u = delete(ww, w.shape())\n",
      "print u == w and v == r"
     ],
     "language": "python",
     "metadata": {
      "deletable": true,
      "editable": true
     },
     "outputs": [
      {
       "output_type": "stream",
       "stream": "stdout",
       "text": [
        "True\n"
       ]
      }
     ],
     "prompt_number": 22
    },
    {
     "cell_type": "markdown",
     "metadata": {
      "collapsed": true,
      "deletable": true,
      "editable": true
     },
     "source": [
      "### Section 4.1\n",
      "#### Illustration of Real RSK (and that $P$ and $Q$ have the same shape- Theorem 5.1.2)"
     ]
    },
    {
     "cell_type": "code",
     "collapsed": false,
     "input": [
      "A = random_real_matrix(3, 4)\n",
      "P, Q = real_rsk(A)\n",
      "print \"The Matrix A:\\n\", A\n",
      "print \"The tableau P:\\n\", P\n",
      "print \"The tableau Q:\\n\", Q\n",
      "from numpy import allclose, array\n",
      "print allclose(array(P.shape()), array(Q.shape())) # Check that P and Q have same shape"
     ],
     "language": "python",
     "metadata": {
      "deletable": true,
      "editable": true
     },
     "outputs": [
      {
       "output_type": "stream",
       "stream": "stdout",
       "text": [
        "The Matrix A:\n",
        "[[ 0.63386479  0.5041889   0.98305988  0.25907127]\n",
        " [ 0.57566931  0.52608072  0.8504584   0.65557073]\n",
        " [ 0.7711132   0.10264207  0.74026272  0.3374939 ]]\n",
        "The tableau P:\n",
        "[[3, 0.52608071942416934], [4, 0.25907126740603847], [2, 1.0302696159671347], [3, 0.41915496073277148], [4, 0.65557072666669591], [1, 1.9806472923141589], [2, 0.10264207445124929], [3, 1.6285453216674122], [4, 0.33749390078186303]]\n",
        "The tableau Q:\n",
        "[[3, 0.78515198683020782], [2, 1.3608212923425294], [3, 0.74417401102407277], [1, 2.3801848313615519], [2, 1.246957864014919], [3, 0.42218589383821248]]\n",
        "True\n"
       ]
      }
     ],
     "prompt_number": 24
    },
    {
     "cell_type": "heading",
     "level": 4,
     "metadata": {
      "deletable": true,
      "editable": true
     },
     "source": [
      "Randomized verification of algorithm for inverse of real RSK (see proof of Theorem 5.1.2)"
     ]
    },
    {
     "cell_type": "code",
     "collapsed": false,
     "input": [
      "A = random_real_matrix(3,2)\n",
      "P, Q = real_rsk(A)\n",
      "print allclose(inverse_real_rsk(P, Q),A) # verifies that A is recovered by inverse of RSK\n",
      "                                         # (implemented using the proof of Theorem 4.1.2)"
     ],
     "language": "python",
     "metadata": {
      "deletable": true,
      "editable": true
     },
     "outputs": [
      {
       "output_type": "stream",
       "stream": "stdout",
       "text": [
        "True\n"
       ]
      }
     ],
     "prompt_number": 25
    }
   ],
   "metadata": {}
  }
 ]
}