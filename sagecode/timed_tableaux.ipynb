{
 "cells": [
  {
   "cell_type": "code",
   "execution_count": 1,
   "metadata": {
    "collapsed": false,
    "deletable": true,
    "editable": true
   },
   "outputs": [],
   "source": [
    "%run timed_tableau.py"
   ]
  },
  {
   "cell_type": "markdown",
   "metadata": {
    "deletable": true,
    "editable": true
   },
   "source": [
    "# The Timed Version of the Plactic Monoid\n",
    "## By Amritanshu Prasad\n",
    "\n",
    "This worksheet illustrates our results on timed words with examples and verifications of theorems.\n",
    "\n",
    "\n",
    "### Section 3.1: Timed Tableaux\n",
    "\n",
    "#### Timed Word\n",
    "\n",
    "The class ``TimedWord`` is is for timed words. The word $c_1^{t_1}\\dotsb c_k^{t_k}$ is constrcuted as ``[(c1,t1), (c2,t2),...(ck,tk)]``.\n",
    "\n",
    "The timed word from **Example 3.1.4** is constructed below:"
   ]
  },
  {
   "cell_type": "code",
   "execution_count": 2,
   "metadata": {
    "collapsed": false,
    "deletable": true,
    "editable": true
   },
   "outputs": [
    {
     "name": "stdout",
     "output_type": "stream",
     "text": [
      "[[3, 0.8], [4, 1.1], [1, 1.4], [2, 1.6], [3, 0.7]]\n"
     ]
    }
   ],
   "source": [
    "w = TimedWord([(3,0.8), (4, 1.1), (1,1.4), (2,1.6), (3,0.7)])\n",
    "print w"
   ]
  },
  {
   "cell_type": "markdown",
   "metadata": {
    "deletable": true,
    "editable": true
   },
   "source": [
    "This timed word is a timed tableau:"
   ]
  },
  {
   "cell_type": "code",
   "execution_count": 3,
   "metadata": {
    "collapsed": false,
    "deletable": true,
    "editable": true,
    "scrolled": false
   },
   "outputs": [
    {
     "data": {
      "text/plain": [
       "True"
      ]
     },
     "execution_count": 3,
     "metadata": {},
     "output_type": "execute_result"
    }
   ],
   "source": [
    "w.is_tableau()"
   ]
  },
  {
   "cell_type": "markdown",
   "metadata": {
    "deletable": true,
    "editable": true
   },
   "source": [
    "``random_word(max_let, terms, max_time=1)``\n",
    "constructs a random timed word with maximum letter ``max_let``, ``terms`` many terms, and each term having maximum length ``max_term``."
   ]
  },
  {
   "cell_type": "code",
   "execution_count": 4,
   "metadata": {
    "collapsed": false,
    "deletable": true,
    "editable": true
   },
   "outputs": [
    {
     "name": "stdout",
     "output_type": "stream",
     "text": [
      "[[4, 0.0795522506239349], [2, 0.6009561626080826], [1, 0.6508700502959133]]\n"
     ]
    }
   ],
   "source": [
    "w = random_word(5, 3); print w # This word will have 3 terms."
   ]
  },
  {
   "cell_type": "markdown",
   "metadata": {
    "deletable": true,
    "editable": true
   },
   "source": [
    "#### Timed Row\n",
    "\n",
    "``TimedRow`` is derived from the class ``TimedWord``. For example:"
   ]
  },
  {
   "cell_type": "code",
   "execution_count": 5,
   "metadata": {
    "collapsed": false,
    "deletable": true,
    "editable": true
   },
   "outputs": [
    {
     "name": "stdout",
     "output_type": "stream",
     "text": [
      "[[1, 0.3], [2, 0.1], [5, 0.2]]\n"
     ]
    }
   ],
   "source": [
    "r = TimedRow([(1,0.3), (2, 0.1), (5, 0.2)]); print r"
   ]
  },
  {
   "cell_type": "markdown",
   "metadata": {
    "deletable": true,
    "editable": true
   },
   "source": [
    "``random_row(max_let, max_time=1)`` constructs a random row with maximum letter ``max_let``. Each term has maximum length ``max_term``."
   ]
  },
  {
   "cell_type": "code",
   "execution_count": 6,
   "metadata": {
    "collapsed": false,
    "deletable": true,
    "editable": true
   },
   "outputs": [
    {
     "name": "stdout",
     "output_type": "stream",
     "text": [
      "[[1, 0.2298253798869453], [2, 0.3281705709230045], [3, 0.5184539376255008], [4, 0.23248160247793026], [5, 0.059064983056283826]]\n"
     ]
    }
   ],
   "source": [
    "r = random_row(5); print r"
   ]
  },
  {
   "cell_type": "markdown",
   "metadata": {
    "deletable": true,
    "editable": true
   },
   "source": [
    "#### ROWINS (Definition 3.2.1 and Example 3.2.2)\n",
    " A row can be inserted into another:"
   ]
  },
  {
   "cell_type": "code",
   "execution_count": 7,
   "metadata": {
    "collapsed": false,
    "deletable": true,
    "editable": true
   },
   "outputs": [
    {
     "name": "stdout",
     "output_type": "stream",
     "text": [
      "([[2, 0.7], [3, 0.2]], [[1, 2.0999999999999996], [2, 1.1], [3, 0.49999999999999994]])\n"
     ]
    }
   ],
   "source": [
    "u = TimedRow([(1,1.4),(2,1.6),(3,0.7)])\n",
    "v = TimedRow([(1,0.7),(2,0.2)])\n",
    "print u.insert_row(v)"
   ]
  },
  {
   "cell_type": "markdown",
   "metadata": {
    "deletable": true,
    "editable": true
   },
   "source": [
    "#### INSERT (Definition 3.2.3 and Example 3.2.4):"
   ]
  },
  {
   "cell_type": "code",
   "execution_count": 8,
   "metadata": {
    "collapsed": false,
    "deletable": true,
    "editable": true
   },
   "outputs": [
    {
     "data": {
      "text/plain": [
       "[[3, 0.7], [4, 0.2], [2, 0.7], [3, 0.3000000000000001], [4, 0.9000000000000001], [1, 2.0999999999999996], [2, 1.1], [3, 0.49999999999999994]]"
      ]
     },
     "execution_count": 8,
     "metadata": {},
     "output_type": "execute_result"
    }
   ],
   "source": [
    "w = TimedTableau([(3,0.8), (4, 1.1), (1,1.4), (2,1.6), (3,0.7)])\n",
    "w.insert_row(TimedRow([(1,0.7),(2,0.2)]))"
   ]
  },
  {
   "cell_type": "markdown",
   "metadata": {
    "deletable": true,
    "editable": true
   },
   "source": [
    "#### Insertion Tableau (Definition 3.2.7 and Example 3.2.8)"
   ]
  },
  {
   "cell_type": "code",
   "execution_count": 9,
   "metadata": {
    "collapsed": false,
    "deletable": true,
    "editable": true
   },
   "outputs": [
    {
     "data": {
      "text/plain": [
       "[[3, 0.7], [4, 0.2], [2, 0.7], [3, 0.3000000000000001], [4, 0.9000000000000001], [1, 2.0999999999999996], [2, 1.1], [3, 0.49999999999999994]]"
      ]
     },
     "execution_count": 9,
     "metadata": {},
     "output_type": "execute_result"
    }
   ],
   "source": [
    "w = TimedWord([(3, 0.8), (1, 0.5), (4, 1.1), (1, 0.9), (2, 1.6), (3, 0.7), (1, 0.7), (2, 0.2)])\n",
    "w.insertion_tableau()"
   ]
  },
  {
   "cell_type": "markdown",
   "metadata": {
    "deletable": true,
    "editable": true
   },
   "source": [
    "#### Schuetzenberger involution on word (Definition 3.2.9)"
   ]
  },
  {
   "cell_type": "code",
   "execution_count": 10,
   "metadata": {
    "collapsed": false,
    "deletable": true,
    "editable": true
   },
   "outputs": [
    {
     "name": "stdout",
     "output_type": "stream",
     "text": [
      "[[3, 0.8], [1, 0.5], [4, 1.1], [1, 0.9], [2, 1.6], [3, 0.7], [1, 0.7], [2, 0.2]]\n",
      "[[3, 0.2], [4, 0.7], [2, 0.7], [3, 1.6], [4, 0.9], [1, 1.1], [4, 0.5], [2, 0.8]]\n"
     ]
    }
   ],
   "source": [
    "print w\n",
    "u = w.schuetzenberger_involution(); print u"
   ]
  },
  {
   "cell_type": "markdown",
   "metadata": {
    "deletable": true,
    "editable": true
   },
   "source": [
    "Note that ``w`` and ``u`` have insertion tableau of the same shape (this can be deduced from **Greene's theorem (Theorem 3.6.1)**."
   ]
  },
  {
   "cell_type": "code",
   "execution_count": 11,
   "metadata": {
    "collapsed": false,
    "deletable": true,
    "editable": true
   },
   "outputs": [
    {
     "name": "stdout",
     "output_type": "stream",
     "text": [
      "[3.6999999999999997, 1.9000000000000001, 0.8999999999999999]\n",
      "[3.6999999999999997, 1.9000000000000001, 0.8999999999999999]\n"
     ]
    }
   ],
   "source": [
    "print w.insertion_tableau().shape()\n",
    "print u.insertion_tableau().shape()"
   ]
  },
  {
   "cell_type": "markdown",
   "metadata": {
    "deletable": true,
    "editable": true
   },
   "source": [
    "#### Randomized verification of Lemma 3.2.1\n",
    "\n",
    "First prepare random rows $u$ and $v$ such that $(v',u')=ROWINS(u,v)$, then $l(v')=l(v)$.\n",
    "This is done by first choosing random rows $u$ and $v$, computing $(x,y)=ROWINS(u,v)$, and then truncating $v$ to $l(x)$."
   ]
  },
  {
   "cell_type": "code",
   "execution_count": 36,
   "metadata": {
    "collapsed": false,
    "deletable": true,
    "editable": true
   },
   "outputs": [
    {
     "name": "stdout",
     "output_type": "stream",
     "text": [
      "True\n"
     ]
    }
   ],
   "source": [
    "u = random_row(5)\n",
    "v = random_row(5)\n",
    "vv, uu = u.insert_row(v)\n",
    "v=v.truncate(vv.length())\n",
    "vv, uu = u.insert_row(v)\n",
    "print vv.length() == v.length()"
   ]
  },
  {
   "cell_type": "markdown",
   "metadata": {
    "deletable": true,
    "editable": true
   },
   "source": [
    "Now we verify **Lemma 3.2.1** using $u$ and $v$ that have been prepared in this way: "
   ]
  },
  {
   "cell_type": "code",
   "execution_count": 37,
   "metadata": {
    "collapsed": false,
    "deletable": true,
    "editable": true
   },
   "outputs": [
    {
     "name": "stdout",
     "output_type": "stream",
     "text": [
      "True\n",
      "True\n"
     ]
    }
   ],
   "source": [
    "r, s = uu.schuetzenberger_involution(max_let=5).insert_row(vv.schuetzenberger_involution(max_let=5))\n",
    "print s.schuetzenberger_involution() == u\n",
    "print r.schuetzenberger_involution() == v"
   ]
  },
  {
   "cell_type": "markdown",
   "metadata": {
    "collapsed": true,
    "deletable": true,
    "editable": true
   },
   "source": [
    "#### Randomized verification of the proof of Corollary 3.2.11    "
   ]
  },
  {
   "cell_type": "code",
   "execution_count": 89,
   "metadata": {
    "collapsed": false,
    "deletable": true,
    "editable": true
   },
   "outputs": [
    {
     "name": "stdout",
     "output_type": "stream",
     "text": [
      "True\n"
     ]
    }
   ],
   "source": [
    "n = 6 # pick largest letter of alphabet\n",
    "u = random_row(n)\n",
    "v = random_row(n)\n",
    "vv, uu = u.insert_row(v)\n",
    "r = u.length()\n",
    "x, y = inverse_rowins(vv, uu, r) # implemented using proof of Corollary 3.2.11\n",
    "print u == x and v == y"
   ]
  },
  {
   "cell_type": "code",
   "execution_count": 46,
   "metadata": {
    "collapsed": false,
    "deletable": true,
    "editable": true
   },
   "outputs": [
    {
     "name": "stdout",
     "output_type": "stream",
     "text": [
      "[[1, 0.7703056957469098], [2, 0.7906429482504347], [3, 0.9139535092317261], [4, 0.2273060213838578], [5, 0.653290064204562]] [0, 0.7703056957469098, 1.5609486439973446, 2.4749021532290705, 2.7022081746129283]\n"
     ]
    }
   ],
   "source": [
    "print u, u.time_stamps()"
   ]
  },
  {
   "cell_type": "code",
   "execution_count": 36,
   "metadata": {
    "collapsed": false,
    "deletable": true,
    "editable": true
   },
   "outputs": [],
   "source": [
    "w = random_word(10, 5)"
   ]
  },
  {
   "cell_type": "code",
   "execution_count": 37,
   "metadata": {
    "collapsed": false,
    "deletable": true,
    "editable": true
   },
   "outputs": [
    {
     "data": {
      "text/plain": [
       "[[7, 0.9451434368989666], [8, 0.3794956986630452], [6, 0.22426025692438223], [10, 0.24715379800931037], [4, 0.011073822432015601]]"
      ]
     },
     "execution_count": 37,
     "metadata": {},
     "output_type": "execute_result"
    }
   ],
   "source": [
    "w"
   ]
  },
  {
   "cell_type": "code",
   "execution_count": 38,
   "metadata": {
    "collapsed": false,
    "deletable": true,
    "editable": true
   },
   "outputs": [
    {
     "data": {
      "text/plain": [
       "True"
      ]
     },
     "execution_count": 38,
     "metadata": {},
     "output_type": "execute_result"
    }
   ],
   "source": [
    "w.subword([[0,1.2]]) == w.truncate(1.2)"
   ]
  },
  {
   "cell_type": "code",
   "execution_count": 7,
   "metadata": {
    "collapsed": false,
    "deletable": true,
    "editable": true
   },
   "outputs": [
    {
     "data": {
      "text/plain": [
       "[[7, 0.1181465564848031], [9, 0.7998146393680998], [7, 0.33242863048659843], [3, 0.18624329285410568], [1, 0.6744423378155662], [7, 0.1181465564848031], [9, 0.7998146393680998], [7, 0.33242863048659843], [3, 0.18624329285410568], [1, 0.6744423378155662]]"
      ]
     },
     "execution_count": 7,
     "metadata": {},
     "output_type": "execute_result"
    }
   ],
   "source": [
    "w.concatenate(w)"
   ]
  },
  {
   "cell_type": "code",
   "execution_count": 8,
   "metadata": {
    "collapsed": false,
    "deletable": true,
    "editable": true
   },
   "outputs": [
    {
     "data": {
      "text/plain": [
       "[[7, 0.1181465564848031], [9, 0.7998146393680998], [7, 0.33242863048659843], [3, 0.18624329285410568], [1, 0.6744423378155662]]"
      ]
     },
     "execution_count": 8,
     "metadata": {},
     "output_type": "execute_result"
    }
   ],
   "source": [
    "TimedWord([]).concatenate(w)"
   ]
  },
  {
   "cell_type": "markdown",
   "metadata": {
    "collapsed": true,
    "deletable": true,
    "editable": true
   },
   "source": [
    "#### Illustration of Real RSK (and that $P$ and $Q$ have the same shape- Theorem 4.1.2)"
   ]
  },
  {
   "cell_type": "code",
   "execution_count": 81,
   "metadata": {
    "collapsed": false
   },
   "outputs": [
    {
     "name": "stdout",
     "output_type": "stream",
     "text": [
      "[[ 0.95617508  0.25065884  0.31787227  0.45252542]\n",
      " [ 0.84786644  0.75127168  0.35656618  0.61276414]\n",
      " [ 0.99179516  0.37620484  0.04765051  0.53639277]]\n",
      "[[3, 0.31787227447918398], [4, 0.45252541630188459], [2, 1.0019305152636262], [3, 0.35656618150599395], [4, 0.30781264496726746], [1, 2.795836668721603], [2, 0.37620484199896753], [3, 0.047650505038922097], [4, 0.84134426645371541]]\n",
      "[[3, 0.77039769078106846], [2, 1.0210565283237552], [3, 0.64525281341313256], [1, 1.977231604308813], [2, 1.5474119044820747], [3, 0.53639277342232028]]\n",
      "True\n"
     ]
    }
   ],
   "source": [
    "%run timed_tableau.py\n",
    "A = random_real_matrix(3, 4)\n",
    "print A\n",
    "P, Q = real_rsk(A)\n",
    "print P\n",
    "print Q\n",
    "print numpy.allclose(numpy.array(P.shape()), numpy.array(Q.shape()))"
   ]
  },
  {
   "cell_type": "code",
   "execution_count": 75,
   "metadata": {
    "collapsed": false
   },
   "outputs": [
    {
     "data": {
      "text/plain": [
       "[[[3, 0.0095768582993116524], [4, 0.089386754318420025]],\n",
       " [[2, 0.21047912014536585], [3, 0.20383497966456221], [4, 0.6455037838933706]],\n",
       " [[1, 1.5658088991341335], [2, 0.014549169229123415], [3, 0.24901358239258731], [4, 0.55908915590565866]]]"
      ]
     },
     "execution_count": 75,
     "metadata": {},
     "output_type": "execute_result"
    }
   ],
   "source": [
    "P.rows()"
   ]
  },
  {
   "cell_type": "code",
   "execution_count": 79,
   "metadata": {
    "collapsed": false
   },
   "outputs": [
    {
     "data": {
      "text/plain": [
       "[[7, 0.9451434368989666], [8, 0.3794956986630452], [6, 0.22426025692438223], [10, 0.24715379800931037], [4, 0.011073822432015601]]"
      ]
     },
     "execution_count": 79,
     "metadata": {},
     "output_type": "execute_result"
    }
   ],
   "source": [
    "w"
   ]
  },
  {
   "cell_type": "code",
   "execution_count": null,
   "metadata": {
    "collapsed": true
   },
   "outputs": [],
   "source": []
  }
 ],
 "metadata": {
  "kernelspec": {
   "display_name": "Python 2",
   "language": "python",
   "name": "python2"
  },
  "language_info": {
   "codemirror_mode": {
    "name": "ipython",
    "version": 2
   },
   "file_extension": ".py",
   "mimetype": "text/x-python",
   "name": "python",
   "nbconvert_exporter": "python",
   "pygments_lexer": "ipython2",
   "version": "2.7.14"
  }
 },
 "nbformat": 4,
 "nbformat_minor": 2
}
