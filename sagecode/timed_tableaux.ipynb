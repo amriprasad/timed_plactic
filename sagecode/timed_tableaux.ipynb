{
 "cells": [
  {
   "cell_type": "markdown",
   "metadata": {
    "deletable": true,
    "editable": true
   },
   "source": [
    "# The Timed Version of the Plactic Monoid\n",
    "## By Amritanshu Prasad\n",
    "\n",
    "This worksheet illustrates our results on timed words with examples and verifications of theorems.\n",
    "\n",
    "\n",
    "### Section 3.1: Timed Tableaux\n",
    "\n",
    "#### Timed Word\n",
    "\n",
    "The class ``TimedWord`` is is for timed words. The word $c_1^{t_1}\\dotsb c_k^{t_k}$ is constrcuted as ``[(c1,t1), (c2,t2),...(ck,tk)]``.\n",
    "\n",
    "The timed word from **Example 3.1.4** is constructed below:"
   ]
  },
  {
   "cell_type": "code",
   "execution_count": 1,
   "metadata": {
    "collapsed": false,
    "deletable": true,
    "editable": true
   },
   "outputs": [
    {
     "name": "stdout",
     "output_type": "stream",
     "text": [
      "[[3, 0.8], [4, 1.1], [1, 1.4], [2, 1.6], [3, 0.7]]\n"
     ]
    }
   ],
   "source": [
    "%run timed_tableau.py\n",
    "w = TimedWord([(3,0.8), (4, 1.1), (1,1.4), (2,1.6), (3,0.7)])\n",
    "print w"
   ]
  },
  {
   "cell_type": "markdown",
   "metadata": {
    "deletable": true,
    "editable": true
   },
   "source": [
    "This timed word is a timed tableau:"
   ]
  },
  {
   "cell_type": "code",
   "execution_count": 2,
   "metadata": {
    "collapsed": false,
    "deletable": true,
    "editable": true,
    "scrolled": false
   },
   "outputs": [
    {
     "data": {
      "text/plain": [
       "True"
      ]
     },
     "execution_count": 2,
     "metadata": {},
     "output_type": "execute_result"
    }
   ],
   "source": [
    "w.is_tableau()"
   ]
  },
  {
   "cell_type": "markdown",
   "metadata": {
    "deletable": true,
    "editable": true
   },
   "source": [
    "``random_word(max_let, terms, max_time=1)``\n",
    "constructs a random timed word with maximum letter ``max_let``, ``terms`` many terms, and each term having maximum length ``max_term``."
   ]
  },
  {
   "cell_type": "code",
   "execution_count": 3,
   "metadata": {
    "collapsed": false,
    "deletable": true,
    "editable": true
   },
   "outputs": [
    {
     "name": "stdout",
     "output_type": "stream",
     "text": [
      "[[1, 0.6023272835701944], [5, 0.19040307281385271], [4, 0.6742914739316462]]\n"
     ]
    }
   ],
   "source": [
    "w = random_word(5, 3); print w # This word will have 3 terms."
   ]
  },
  {
   "cell_type": "markdown",
   "metadata": {
    "deletable": true,
    "editable": true
   },
   "source": [
    "#### Timed Row\n",
    "\n",
    "``TimedRow`` is derived from the class ``TimedWord``. For example:"
   ]
  },
  {
   "cell_type": "code",
   "execution_count": 4,
   "metadata": {
    "collapsed": false,
    "deletable": true,
    "editable": true
   },
   "outputs": [
    {
     "name": "stdout",
     "output_type": "stream",
     "text": [
      "[[1, 0.3], [2, 0.1], [5, 0.2]]\n"
     ]
    }
   ],
   "source": [
    "r = TimedRow([(1,0.3), (2, 0.1), (5, 0.2)]); print r"
   ]
  },
  {
   "cell_type": "markdown",
   "metadata": {
    "deletable": true,
    "editable": true
   },
   "source": [
    "``random_row(max_let, max_time=1)`` constructs a random row with maximum letter ``max_let``. Each term has maximum length ``max_term``."
   ]
  },
  {
   "cell_type": "code",
   "execution_count": 5,
   "metadata": {
    "collapsed": false,
    "deletable": true,
    "editable": true
   },
   "outputs": [
    {
     "name": "stdout",
     "output_type": "stream",
     "text": [
      "[[1, 0.0604963171846048], [2, 0.29875912651014935], [3, 0.8465528521624526], [4, 0.7968301609881252], [5, 0.003389899592006196]]\n"
     ]
    }
   ],
   "source": [
    "r = random_row(5); print r"
   ]
  },
  {
   "cell_type": "markdown",
   "metadata": {
    "deletable": true,
    "editable": true
   },
   "source": [
    "### Section 3.2\n",
    "#### ROWINS (Definition 3.2.1 and Example 3.2.2)\n",
    " A row can be inserted into another:"
   ]
  },
  {
   "cell_type": "code",
   "execution_count": 6,
   "metadata": {
    "collapsed": false,
    "deletable": true,
    "editable": true
   },
   "outputs": [
    {
     "name": "stdout",
     "output_type": "stream",
     "text": [
      "([[2, 0.7], [3, 0.2]], [[1, 2.0999999999999996], [2, 1.1], [3, 0.49999999999999994]])\n"
     ]
    }
   ],
   "source": [
    "u = TimedRow([(1,1.4),(2,1.6),(3,0.7)])\n",
    "v = TimedRow([(1,0.7),(2,0.2)])\n",
    "print u.insert_row(v)"
   ]
  },
  {
   "cell_type": "markdown",
   "metadata": {
    "deletable": true,
    "editable": true
   },
   "source": [
    "#### INSERT (Definition 3.2.3 and Example 3.2.4):"
   ]
  },
  {
   "cell_type": "code",
   "execution_count": 7,
   "metadata": {
    "collapsed": false,
    "deletable": true,
    "editable": true
   },
   "outputs": [
    {
     "data": {
      "text/plain": [
       "[[3, 0.7], [4, 0.2], [2, 0.7], [3, 0.3000000000000001], [4, 0.9000000000000001], [1, 2.0999999999999996], [2, 1.1], [3, 0.49999999999999994]]"
      ]
     },
     "execution_count": 7,
     "metadata": {},
     "output_type": "execute_result"
    }
   ],
   "source": [
    "w = TimedTableau([(3,0.8), (4, 1.1), (1,1.4), (2,1.6), (3,0.7)])\n",
    "w.insert_row(TimedRow([(1,0.7),(2,0.2)]))"
   ]
  },
  {
   "cell_type": "markdown",
   "metadata": {
    "deletable": true,
    "editable": true
   },
   "source": [
    "#### Insertion Tableau (Definition 3.2.7 and Example 3.2.8)"
   ]
  },
  {
   "cell_type": "code",
   "execution_count": 8,
   "metadata": {
    "collapsed": false,
    "deletable": true,
    "editable": true
   },
   "outputs": [
    {
     "data": {
      "text/plain": [
       "[[3, 0.7], [4, 0.2], [2, 0.7], [3, 0.3000000000000001], [4, 0.9000000000000001], [1, 2.0999999999999996], [2, 1.1], [3, 0.49999999999999994]]"
      ]
     },
     "execution_count": 8,
     "metadata": {},
     "output_type": "execute_result"
    }
   ],
   "source": [
    "w = TimedWord([(3, 0.8), (1, 0.5), (4, 1.1), (1, 0.9), (2, 1.6), (3, 0.7), (1, 0.7), (2, 0.2)])\n",
    "w.insertion_tableau()"
   ]
  },
  {
   "cell_type": "markdown",
   "metadata": {
    "deletable": true,
    "editable": true
   },
   "source": [
    "#### Schuetzenberger involution on word (Definition 3.2.9)"
   ]
  },
  {
   "cell_type": "code",
   "execution_count": 9,
   "metadata": {
    "collapsed": false,
    "deletable": true,
    "editable": true
   },
   "outputs": [
    {
     "name": "stdout",
     "output_type": "stream",
     "text": [
      "[[3, 0.8], [1, 0.5], [4, 1.1], [1, 0.9], [2, 1.6], [3, 0.7], [1, 0.7], [2, 0.2]]\n",
      "[[3, 0.2], [4, 0.7], [2, 0.7], [3, 1.6], [4, 0.9], [1, 1.1], [4, 0.5], [2, 0.8]]\n"
     ]
    }
   ],
   "source": [
    "print w\n",
    "u = w.schuetzenberger_involution(); print u"
   ]
  },
  {
   "cell_type": "markdown",
   "metadata": {
    "deletable": true,
    "editable": true
   },
   "source": [
    "Note that ``w`` and ``u`` have insertion tableau of the same shape (this can be deduced from **Greene's theorem (Theorem 3.6.1)**."
   ]
  },
  {
   "cell_type": "code",
   "execution_count": 10,
   "metadata": {
    "collapsed": false,
    "deletable": true,
    "editable": true
   },
   "outputs": [
    {
     "name": "stdout",
     "output_type": "stream",
     "text": [
      "[3.6999999999999997, 1.9000000000000001, 0.8999999999999999]\n",
      "[3.6999999999999997, 1.9000000000000001, 0.8999999999999999]\n"
     ]
    }
   ],
   "source": [
    "print w.insertion_tableau().shape()\n",
    "print u.insertion_tableau().shape()"
   ]
  },
  {
   "cell_type": "markdown",
   "metadata": {
    "deletable": true,
    "editable": true
   },
   "source": [
    "#### Randomized verification of Lemma 3.2.1\n",
    "\n",
    "First prepare random rows $u$ and $v$ such that $(v',u')=ROWINS(u,v)$, then $l(v')=l(v)$.\n",
    "This is done by first choosing random rows $u$ and $v$, computing $(x,y)=ROWINS(u,v)$, and then truncating $v$ to $l(x)$."
   ]
  },
  {
   "cell_type": "code",
   "execution_count": 11,
   "metadata": {
    "collapsed": false,
    "deletable": true,
    "editable": true
   },
   "outputs": [
    {
     "name": "stdout",
     "output_type": "stream",
     "text": [
      "True\n"
     ]
    }
   ],
   "source": [
    "u = random_row(5)\n",
    "v = random_row(5)\n",
    "vv, uu = u.insert_row(v)\n",
    "v=v.truncate(vv.length())\n",
    "vv, uu = u.insert_row(v)\n",
    "print vv.length() == v.length()"
   ]
  },
  {
   "cell_type": "markdown",
   "metadata": {
    "deletable": true,
    "editable": true
   },
   "source": [
    "Now we verify **Lemma 3.2.1** using $u$ and $v$ that have been prepared in this way: "
   ]
  },
  {
   "cell_type": "code",
   "execution_count": 12,
   "metadata": {
    "collapsed": false,
    "deletable": true,
    "editable": true
   },
   "outputs": [
    {
     "name": "stdout",
     "output_type": "stream",
     "text": [
      "True\n",
      "True\n"
     ]
    }
   ],
   "source": [
    "r, s = uu.schuetzenberger_involution(max_let=5).insert_row(vv.schuetzenberger_involution(max_let=5))\n",
    "print s.schuetzenberger_involution() == u\n",
    "print r.schuetzenberger_involution() == v"
   ]
  },
  {
   "cell_type": "markdown",
   "metadata": {
    "collapsed": true,
    "deletable": true,
    "editable": true
   },
   "source": [
    "#### Randomized verification of the proof of Corollary 3.2.11"
   ]
  },
  {
   "cell_type": "code",
   "execution_count": 13,
   "metadata": {
    "collapsed": false,
    "deletable": true,
    "editable": true
   },
   "outputs": [
    {
     "name": "stdout",
     "output_type": "stream",
     "text": [
      "True\n"
     ]
    }
   ],
   "source": [
    "n = 2 # pick largest letter of alphabet\n",
    "u = random_row(n)\n",
    "v = random_row(n)\n",
    "vv, uu = u.insert_row(v)\n",
    "r = u.length()\n",
    "x, y = inverse_rowins(vv, uu, r) # implemented using proof of Corollary 3.2.11\n",
    "print u == x and v == y"
   ]
  },
  {
   "cell_type": "markdown",
   "metadata": {
    "deletable": true,
    "editable": true
   },
   "source": [
    "#### Randomized verification of the Deletion algorithm (Definition 3.2.13)"
   ]
  },
  {
   "cell_type": "code",
   "execution_count": 14,
   "metadata": {
    "collapsed": false,
    "deletable": true,
    "editable": true
   },
   "outputs": [
    {
     "name": "stdout",
     "output_type": "stream",
     "text": [
      "True\n"
     ]
    }
   ],
   "source": [
    "w = random_word(5, 5).insertion_tableau()\n",
    "r = random_row(5)\n",
    "ww = w.insert_row(r)\n",
    "v, u = delete(ww, w.shape())\n",
    "print u == w and v == r"
   ]
  },
  {
   "cell_type": "markdown",
   "metadata": {
    "collapsed": true,
    "deletable": true,
    "editable": true
   },
   "source": [
    "### Section 4.1\n",
    "#### Illustration of Real RSK (and that $P$ and $Q$ have the same shape- Theorem 4.1.2)"
   ]
  },
  {
   "cell_type": "code",
   "execution_count": 15,
   "metadata": {
    "collapsed": false,
    "deletable": true,
    "editable": true
   },
   "outputs": [
    {
     "name": "stdout",
     "output_type": "stream",
     "text": [
      "The Matrix A:\n",
      "[[ 0.67779294  0.9221423   0.15711772  0.25277145]\n",
      " [ 0.95114946  0.13640205  0.77579964  0.92088717]\n",
      " [ 0.30953467  0.65774211  0.7543032   0.08182725]]\n",
      "The tableau P:\n",
      "[[3, 0.13640205433000474], [4, 0.25277145400863288], [2, 1.0585443496680864], [3, 0.79651530397686232], [4, 0.80937828274101453], [1, 1.9384770660369046], [2, 0.65774211047995745], [3, 0.75430319650161504], [4, 0.19333613777488079]]\n",
      "The tableau Q:\n",
      "[[3, 0.38917350833863762], [2, 1.3320314647407967], [3, 1.3324064716451667], [1, 2.0098243999561789], [2, 1.4522068626890046], [3, 0.081827248148174658]]\n",
      "True\n"
     ]
    }
   ],
   "source": [
    "A = random_real_matrix(3, 4)\n",
    "P, Q = real_rsk(A)\n",
    "print \"The Matrix A:\\n\", A\n",
    "print \"The tableau P:\\n\", P\n",
    "print \"The tableau Q:\\n\", Q\n",
    "from numpy import allclose, array\n",
    "print allclose(array(P.shape()), array(Q.shape())) # Check that P and Q have same shape"
   ]
  },
  {
   "cell_type": "markdown",
   "metadata": {},
   "source": [
    "#### Randomized verification of algorithm for inverse of real RSK (see proof of Theorem 4.1.2)"
   ]
  },
  {
   "cell_type": "code",
   "execution_count": 16,
   "metadata": {
    "collapsed": false
   },
   "outputs": [
    {
     "name": "stdout",
     "output_type": "stream",
     "text": [
      "True\n"
     ]
    }
   ],
   "source": [
    "A = random_real_matrix(3,2)\n",
    "P, Q = real_rsk(A)\n",
    "print allclose(inverse_real_rsk(P, Q),A) # verifies that A is recovered by inverse of RSK\n",
    "                                         # (implemented using the proof of Theorem 4.1.2)"
   ]
  }
 ],
 "metadata": {
  "kernelspec": {
   "display_name": "Python 2",
   "language": "python",
   "name": "python2"
  },
  "language_info": {
   "codemirror_mode": {
    "name": "ipython",
    "version": 2
   },
   "file_extension": ".py",
   "mimetype": "text/x-python",
   "name": "python",
   "nbconvert_exporter": "python",
   "pygments_lexer": "ipython2",
   "version": "2.7.14"
  }
 },
 "nbformat": 4,
 "nbformat_minor": 2
}
