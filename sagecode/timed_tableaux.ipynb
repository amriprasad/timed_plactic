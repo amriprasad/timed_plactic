{
 "cells": [
  {
   "cell_type": "code",
   "execution_count": 224,
   "metadata": {
    "collapsed": false
   },
   "outputs": [],
   "source": [
    "%run timed_tableau.py"
   ]
  },
  {
   "cell_type": "markdown",
   "metadata": {},
   "source": [
    "# The Timed Version of the Plactic Monoid\n",
    "## By Amritanshu Prasad\n",
    "\n",
    "This worksheet illustrates our results on timed words with examples and verifications of theorems.\n",
    "\n",
    "\n",
    "### Section 3.1: Timed Tableaux\n",
    "\n",
    "#### Timed Word\n",
    "\n",
    "The class ``TimedWord`` is is for timed words. The word $c_1^{t_1}\\dotsb c_k^{t_k}$ is constrcuted as ``[(c1,t1), (c2,t2),...(ck,tk)]``.\n",
    "\n",
    "The timed word from **Example 3.1.4** is constructed below:"
   ]
  },
  {
   "cell_type": "code",
   "execution_count": 225,
   "metadata": {
    "collapsed": false
   },
   "outputs": [
    {
     "name": "stdout",
     "output_type": "stream",
     "text": [
      "[[3, 0.8], [4, 1.1], [1, 1.4], [2, 1.6], [3, 0.7]]\n"
     ]
    }
   ],
   "source": [
    "w = TimedWord([(3,0.8), (4, 1.1), (1,1.4), (2,1.6), (3,0.7)])\n",
    "print w"
   ]
  },
  {
   "cell_type": "markdown",
   "metadata": {},
   "source": [
    "This timed word is a timed tableau:"
   ]
  },
  {
   "cell_type": "code",
   "execution_count": 226,
   "metadata": {
    "collapsed": false,
    "scrolled": false
   },
   "outputs": [
    {
     "data": {
      "text/plain": [
       "True"
      ]
     },
     "execution_count": 226,
     "metadata": {},
     "output_type": "execute_result"
    }
   ],
   "source": [
    "w.is_tableau()"
   ]
  },
  {
   "cell_type": "markdown",
   "metadata": {},
   "source": [
    "``random_word(max_let, terms, max_time=1)``\n",
    "constructs a random timed word with maximum letter ``max_let``, ``terms`` many terms, and each term having maximum length ``max_term``."
   ]
  },
  {
   "cell_type": "code",
   "execution_count": 227,
   "metadata": {
    "collapsed": false
   },
   "outputs": [
    {
     "name": "stdout",
     "output_type": "stream",
     "text": [
      "[[1, 0.4768773590713252], [4, 0.8859972049598771]]\n"
     ]
    }
   ],
   "source": [
    "w = random_word(5, 3); print w # This word will have 3 terms."
   ]
  },
  {
   "cell_type": "markdown",
   "metadata": {},
   "source": [
    "#### Timed Row\n",
    "\n",
    "``TimedRow`` is derived from the class ``TimedWord``. For example:"
   ]
  },
  {
   "cell_type": "code",
   "execution_count": 228,
   "metadata": {
    "collapsed": false
   },
   "outputs": [
    {
     "name": "stdout",
     "output_type": "stream",
     "text": [
      "[[1, 0.3], [2, 0.1], [5, 0.2]]\n"
     ]
    }
   ],
   "source": [
    "r = TimedRow([(1,0.3), (2, 0.1), (5, 0.2)]); print r"
   ]
  },
  {
   "cell_type": "markdown",
   "metadata": {},
   "source": [
    "``random_row(max_let, max_time=1)`` constructs a random row with maximum letter ``max_let``. Each term has maximum length ``max_term``."
   ]
  },
  {
   "cell_type": "code",
   "execution_count": 229,
   "metadata": {
    "collapsed": false
   },
   "outputs": [
    {
     "name": "stdout",
     "output_type": "stream",
     "text": [
      "[[1, 0.7267634280561434], [2, 0.6540757298662875], [3, 0.03293829387102287], [4, 0.19859495182709563], [5, 0.7513921045860124]]\n"
     ]
    }
   ],
   "source": [
    "r = random_row(5); print r"
   ]
  },
  {
   "cell_type": "markdown",
   "metadata": {},
   "source": [
    "#### ROWINS (Definition 3.2.1 and Example 3.2.2)\n",
    " A row can be inserted into another:"
   ]
  },
  {
   "cell_type": "code",
   "execution_count": 230,
   "metadata": {
    "collapsed": false
   },
   "outputs": [
    {
     "name": "stdout",
     "output_type": "stream",
     "text": [
      "([[2, 0.7], [3, 0.2]], [[1, 2.0999999999999996], [2, 1.1], [3, 0.49999999999999994]])\n"
     ]
    }
   ],
   "source": [
    "u = TimedRow([(1,1.4),(2,1.6),(3,0.7)])\n",
    "v = TimedRow([(1,0.7),(2,0.2)])\n",
    "print u.insert_row(v)"
   ]
  },
  {
   "cell_type": "markdown",
   "metadata": {},
   "source": [
    "#### INSERT (Definition 3.2.3 and Example 3.2.4):"
   ]
  },
  {
   "cell_type": "code",
   "execution_count": 231,
   "metadata": {
    "collapsed": false
   },
   "outputs": [
    {
     "data": {
      "text/plain": [
       "[[3, 0.7], [4, 0.2], [2, 0.7], [3, 0.3000000000000001], [4, 0.9000000000000001], [1, 2.0999999999999996], [2, 1.1], [3, 0.49999999999999994]]"
      ]
     },
     "execution_count": 231,
     "metadata": {},
     "output_type": "execute_result"
    }
   ],
   "source": [
    "w = TimedTableau([(3,0.8), (4, 1.1), (1,1.4), (2,1.6), (3,0.7)])\n",
    "w.insert_row(TimedRow([(1,0.7),(2,0.2)]))"
   ]
  },
  {
   "cell_type": "markdown",
   "metadata": {},
   "source": [
    "#### Insertion Tableau (Definition 3.2.7 and Example 3.2.8)"
   ]
  },
  {
   "cell_type": "code",
   "execution_count": 232,
   "metadata": {
    "collapsed": false
   },
   "outputs": [
    {
     "data": {
      "text/plain": [
       "[[3, 0.7], [4, 0.2], [2, 0.7], [3, 0.3000000000000001], [4, 0.9000000000000001], [1, 2.0999999999999996], [2, 1.1], [3, 0.49999999999999994]]"
      ]
     },
     "execution_count": 232,
     "metadata": {},
     "output_type": "execute_result"
    }
   ],
   "source": [
    "w = TimedWord([(3, 0.8), (1, 0.5), (4, 1.1), (1, 0.9), (2, 1.6), (3, 0.7), (1, 0.7), (2, 0.2)])\n",
    "w.insertion_tableau()"
   ]
  },
  {
   "cell_type": "markdown",
   "metadata": {},
   "source": [
    "#### Schuetzenberger involution on word (Definition 3.2.9)"
   ]
  },
  {
   "cell_type": "code",
   "execution_count": 233,
   "metadata": {
    "collapsed": false
   },
   "outputs": [
    {
     "name": "stdout",
     "output_type": "stream",
     "text": [
      "[[3, 0.8], [1, 0.5], [4, 1.1], [1, 0.9], [2, 1.6], [3, 0.7], [1, 0.7], [2, 0.2]]\n",
      "[[3, 0.2], [4, 0.7], [2, 0.7], [3, 1.6], [4, 0.9], [1, 1.1], [4, 0.5], [2, 0.8]]\n"
     ]
    }
   ],
   "source": [
    "print w\n",
    "u = w.schuetzenberger_involution(); print u"
   ]
  },
  {
   "cell_type": "markdown",
   "metadata": {},
   "source": [
    "Note that ``w`` and ``u`` have insertion tableau of the same shape (this can be deduced from **Greene's theorem (Theorem 3.6.1)**."
   ]
  },
  {
   "cell_type": "code",
   "execution_count": 234,
   "metadata": {
    "collapsed": false
   },
   "outputs": [
    {
     "name": "stdout",
     "output_type": "stream",
     "text": [
      "[3.6999999999999997, 1.9000000000000001, 0.8999999999999999]\n",
      "[3.6999999999999997, 1.9000000000000001, 0.8999999999999999]\n"
     ]
    }
   ],
   "source": [
    "print w.insertion_tableau().shape()\n",
    "print u.insertion_tableau().shape()"
   ]
  },
  {
   "cell_type": "markdown",
   "metadata": {},
   "source": [
    "#### Randomized verification of Lemma 3.2.1\n",
    "\n",
    "First prepare random rows $u$ and $v$ such that $(v',u')=ROWINS(u,v)$, then $l(v')=l(v)$.\n",
    "This is done by first choosing random rows $u$ and $v$, computing $(x,y)=ROWINS(u,v)$, and then truncating $v$ to $l(x)$."
   ]
  },
  {
   "cell_type": "code",
   "execution_count": 260,
   "metadata": {
    "collapsed": false
   },
   "outputs": [
    {
     "name": "stdout",
     "output_type": "stream",
     "text": [
      "[[1, 0.8092958273831534], [2, 0.7422254072831701], [3, 0.6726479520387171], [4, 0.3473923057395156], [5, 0.25193371321741675]]\n",
      "[[1, 0.45627170866555966], [2, 0.6547512613770575], [3, 0.5993260189569325]]\n",
      "1.710348989 1.710348989\n"
     ]
    }
   ],
   "source": [
    "u = random_row(5)\n",
    "v = random_row(5)\n",
    "x, y = u.insert_row(v)\n",
    "v=v.truncate(x.length())\n",
    "print u\n",
    "print v\n",
    "x, y = u.insert_row(v)\n",
    "print x.length(), v.length()"
   ]
  },
  {
   "cell_type": "markdown",
   "metadata": {},
   "source": [
    "Now we verify **Lemma 3.2.1** using $u$ and $v$ that have been prepared in this way: "
   ]
  },
  {
   "cell_type": "code",
   "execution_count": 261,
   "metadata": {
    "collapsed": false
   },
   "outputs": [
    {
     "name": "stdout",
     "output_type": "stream",
     "text": [
      "[[1, 0.8092958273831534], [2, 0.7422254072831701], [3, 0.6726479520387171], [4, 0.3473923057395156], [5, 0.25193371321741675]]\n",
      "2.82349520566 3.9345181757 1.710348989 0.599326018957\n",
      "[[1, 0.45627170866555966], [2, 1.572926491686255], [3, 1.0361635525167667], [4, 0.8691564228360088]]\n",
      "[[1, 0.45627170866555966], [2, 0.6547512613770575], [3, 0.5993260189569325]]\n",
      "[[1, 0.3473923057395156], [2, 0.25193371321741675]]\n"
     ]
    }
   ],
   "source": [
    "r, s = y.schuetzenberger_involution().insert_row(x.schuetzenberger_involution())\n",
    "print u\n",
    "print u.length(), s.length(), v.length(), r.length()\n",
    "print s.schuetzenberger_involution()\n",
    "print v \n",
    "print r.schuetzenberger_involution()"
   ]
  },
  {
   "cell_type": "code",
   "execution_count": 262,
   "metadata": {
    "collapsed": false
   },
   "outputs": [
    {
     "data": {
      "text/plain": [
       "[[1, 0.8092958273831534], [2, 0.7422254072831701], [3, 0.6726479520387171], [4, 0.3473923057395156], [5, 0.25193371321741675]]"
      ]
     },
     "execution_count": 262,
     "metadata": {},
     "output_type": "execute_result"
    }
   ],
   "source": []
  },
  {
   "cell_type": "code",
   "execution_count": 216,
   "metadata": {
    "collapsed": false
   },
   "outputs": [
    {
     "data": {
      "text/plain": [
       "3"
      ]
     },
     "execution_count": 216,
     "metadata": {},
     "output_type": "execute_result"
    }
   ],
   "source": [
    "len(u._w)"
   ]
  },
  {
   "cell_type": "code",
   "execution_count": 217,
   "metadata": {
    "collapsed": false
   },
   "outputs": [
    {
     "data": {
      "text/plain": [
       "3"
      ]
     },
     "execution_count": 217,
     "metadata": {},
     "output_type": "execute_result"
    }
   ],
   "source": [
    "len(u.time_stamps())"
   ]
  },
  {
   "cell_type": "code",
   "execution_count": 218,
   "metadata": {
    "collapsed": false
   },
   "outputs": [
    {
     "data": {
      "text/plain": [
       "[0, 0.7625125947341301, 1.6170963817726824]"
      ]
     },
     "execution_count": 218,
     "metadata": {},
     "output_type": "execute_result"
    }
   ],
   "source": [
    "u.time_stamps()"
   ]
  },
  {
   "cell_type": "code",
   "execution_count": 202,
   "metadata": {
    "collapsed": false
   },
   "outputs": [
    {
     "data": {
      "text/plain": [
       "1.911467689237234"
      ]
     },
     "execution_count": 202,
     "metadata": {},
     "output_type": "execute_result"
    }
   ],
   "source": [
    "u.length()"
   ]
  },
  {
   "cell_type": "code",
   "execution_count": null,
   "metadata": {
    "collapsed": true
   },
   "outputs": [],
   "source": [
    "    "
   ]
  }
 ],
 "metadata": {
  "kernelspec": {
   "display_name": "Python 2",
   "language": "python",
   "name": "python2"
  },
  "language_info": {
   "codemirror_mode": {
    "name": "ipython",
    "version": 2
   },
   "file_extension": ".py",
   "mimetype": "text/x-python",
   "name": "python",
   "nbconvert_exporter": "python",
   "pygments_lexer": "ipython2",
   "version": "2.7.13"
  }
 },
 "nbformat": 4,
 "nbformat_minor": 2
}
